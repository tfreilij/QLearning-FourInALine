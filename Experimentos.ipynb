{
 "cells": [
  {
   "cell_type": "markdown",
   "metadata": {},
   "source": [
    "# Observaciones previas: \n",
    "\n",
    "En todos los casos la elección de la mejor acción se realizó de la siguiente manera: con probabilidad menor a 0.2 se elegía aleatoriamente entre las acciones posibles y con probabilidad 0.8 se elegía entre las mejores (fruto del aprendizaje). \n",
    "\n",
    "En los experimentos 1,2,3 y 5 se consideró que la función Q(estado,acción) es inicializada con el valor 1.\n"
   ]
  },
  {
   "cell_type": "markdown",
   "metadata": {},
   "source": [
    "# Experimento 1: Elección de hiperparámetros\n",
    "\n",
    "\n",
    "Antes de comenzar a realizar los entrenamientos y poner a competir a los jugadores debíamos elegir la tasa de aprendizaje (representada por alpha) y el factor de descuento (representado por gamma). El experimento constó en realizar competencias de los jugadores Q-Player (Q-P) y Random-Player (R-P) con distintas combinaciones de alphas y gammas donde cada sesión de entrenamiento constó de 100 partidas. Obtuvimos los siguientes resultados:  "
   ]
  },
  {
   "cell_type": "code",
   "execution_count": 2,
   "metadata": {
    "collapsed": false
   },
   "outputs": [
    {
     "name": "stdout",
     "output_type": "stream",
     "text": [
      "Populating the interactive namespace from numpy and matplotlib\n"
     ]
    },
    {
     "name": "stderr",
     "output_type": "stream",
     "text": [
      "WARNING: pylab import has clobbered these variables: ['e']\n",
      "`%matplotlib` prevents importing * from pylab and numpy\n"
     ]
    }
   ],
   "source": [
    "%pylab inline"
   ]
  },
  {
   "cell_type": "code",
   "execution_count": 3,
   "metadata": {
    "collapsed": false
   },
   "outputs": [
    {
     "name": "stdout",
     "output_type": "stream",
     "text": [
      "      0.00  0.25  0.50  0.75  1.00\n",
      "0.00    78    76    77    72    73\n",
      "0.25    76    78    69    80    78\n",
      "0.50    79    82    70    82    85\n",
      "0.75    82    76    73    81    76\n",
      "1.00    82    75    78    78    70\n"
     ]
    }
   ],
   "source": [
    "\n",
    "\n",
    "import pandas as pd\n",
    "e = {(0, 0.5): 79, (0.5, 1): 78, (0.75, 0): 72, (0.25, 0.25): 78, (1, 0.5): 85, (0.5, 0.5): 70, (0.75, 0.75): 81, (1, 0.25): 78, (0.75, 0.5): 82, (1, 1): 70, (0.25, 1): 75, (0.25, 0): 76, (0.5, 0): 77, (0, 0.25): 76, (0, 0.75): 82, (0.25, 0.75): 76, (1, 0): 73, (0.5, 0.25): 69, (1, 0.75): 76, (0, 1): 82, (0, 0): 78, (0.75, 1): 78, (0.5, 0.75): 73, (0.75, 0.25): 80, (0.25, 0.5): 82}\n",
    " \n",
    "from collections import defaultdict\n",
    "d = defaultdict(dict)\n",
    "for (primero, segundo),val in e.iteritems():\n",
    "    a = d[(primero)]\n",
    "    a[segundo] = val   \n",
    "\n",
    "j = pd.DataFrame(d)\n",
    "\n",
    "print j.to_string(na_rep='-')"
   ]
  },
  {
   "cell_type": "markdown",
   "metadata": {},
   "source": [
    "Las columnas son los valores elegidos para alpha, las filas para gamma. Los valores asociados a cada fila y columna son la cantidad total de partidas ganadas por Q-P. Podemos observar que en este experimento la mejor combinación la obtuvimos con alpha=1 y gamma=0.5.\n",
    "\n",
    "Decidimos realizar un experimento similar modificando la cantidad de partidas, haciendo 200 en total tomando un subconjunto de combinaciones de alphas y gammas. Los resultados obtenidos fueron:"
   ]
  },
  {
   "cell_type": "code",
   "execution_count": 103,
   "metadata": {
    "collapsed": false
   },
   "outputs": [
    {
     "name": "stdout",
     "output_type": "stream",
     "text": [
      "      0.25   0.50   0.75   1.00\n",
      "0.00   145  158.0  144.0  157.0\n",
      "0.25   150  153.0  155.0  155.0\n",
      "0.50   157  154.0  150.0  163.0\n",
      "0.75   150  150.0  158.0  146.0\n",
      "1.00   155      -      -      -\n"
     ]
    }
   ],
   "source": [
    "\n",
    "c={(0.25, 1): 155, (0.25, 0.5): 157, (0.75, 0): 144, (0.75, 0.75): 158, (0.5, 0.75): 150, (0.5, 0.5): 154, (0.5, 0): 158, (0.75, 0.25): 155, (0.25, 0.25): 150, (0.25, 0): 145, (0.75, 0.5): 150, (0.25, 0.75): 150, (1, 0.75): 146, (1, 0.5): 163, (0.5, 0.25): 153, (1, 0): 157, (1, 0.25): 155}\n",
    "from collections import defaultdict\n",
    "d = defaultdict(dict)\n",
    "for (primero, segundo),val in c.iteritems():\n",
    "    a = d[(primero)]\n",
    "    a[segundo] = val   \n",
    "import pandas as pd\n",
    "j = pd.DataFrame(d)\n",
    "\n",
    "print j.to_string(na_rep='-')\n",
    "    "
   ]
  },
  {
   "cell_type": "markdown",
   "metadata": {},
   "source": [
    "Nuevamente, las columnas son los valores elegidos para alpha, las filas para gamma. Los valores asociados a cada fila y columna son la cantidad total de partidas ganadas por Q-P. En los casos que figura \"-\" es que no analizamos dicho caso porque necesitábamos detener el proceso.\n",
    "\n",
    "Al igual que antes, obtuvimos una mayor ganancia con la combinacion alpha=1 y gamma=0.5\n",
    "Por esta razón, decidimos realizar los experimentos que siguen considerando la tasa de crecimiento en 1 y factor de descuento en 0.5."
   ]
  },
  {
   "cell_type": "markdown",
   "metadata": {},
   "source": [
    "# Experimento 2: R-P vs Q-P (alpha=1 y gamma=0.5)"
   ]
  },
  {
   "cell_type": "markdown",
   "metadata": {},
   "source": [
    "Una vez obtenidos los hiperparámetros quedó definido nuestro modelo. Ahora, entrenamos al Q-P modificando la cantidad de partidas de entrenamiento, siempre contra R-P. Los experimentos fueron los siguientes:"
   ]
  },
  {
   "cell_type": "code",
   "execution_count": 104,
   "metadata": {
    "collapsed": false
   },
   "outputs": [
    {
     "name": "stdout",
     "output_type": "stream",
     "text": [
      "    Cantidad de partidas  Partidos ganados Q-P (en %) \n",
      "0                     10                            70\n",
      "1                     20                            70\n",
      "2                     30                            76\n",
      "3                     50                            76\n",
      "4                    100                            74\n",
      "5                    200                            74\n",
      "6                    250                            78\n",
      "7                    300                            77\n",
      "8                    400                            75\n",
      "9                    500                            72\n",
      "10                  1000                            76\n"
     ]
    }
   ],
   "source": [
    "partidas=[10,20,30,50,100,200,250,300,400,500,1000]\n",
    "resultadosQPlayer=[7,14,23,38,74,149,197,232,303,363,760]\n",
    "porcentajeQPlayer=np.multiply(resultadosQPlayer,100)/partidas\n",
    "resultadosRPlayer=[3,6,7,12,26,51,53,68,73,137,240]\n",
    "porcentajeRPlayer=np.multiply(resultadosRPlayer,100)/partidas\n",
    "\n",
    "\n",
    "a={'Cantidad de partidas':partidas,'Partidos ganados Q-P (en %) ':porcentajeQPlayer}\n",
    "b= pd.DataFrame(a)\n",
    "print b"
   ]
  },
  {
   "cell_type": "markdown",
   "metadata": {},
   "source": [
    "Dado el último resultado, el gráfico quedaba por fuera de escala y no se podían apreciar las diferencias entre todos los valores. Por eso decidimos dejar los datos en este cuadro.\n",
    "\n",
    "En ese sentido, en el gráfico siguiente dejamos los resultados obtenidos con 10, 100, 200, 300, 400 y 500 partidas:"
   ]
  },
  {
   "cell_type": "code",
   "execution_count": 105,
   "metadata": {
    "collapsed": false
   },
   "outputs": [
    {
     "data": {
      "image/png": "[encoded data removed]",
      "text/plain": [
       "<matplotlib.figure.Figure at 0xc555550>"
      ]
     },
     "metadata": {},
     "output_type": "display_data"
    }
   ],
   "source": [
    "import numpy as np\n",
    "import matplotlib.pyplot as plt\n",
    "\n",
    "\n",
    "partidas=[10,100,200,300,400,500]\n",
    "resultadosQPlayer=[7,74,149,232,303,363]\n",
    "porcentajeQPlayer=np.multiply(resultadosQPlayer,100)/partidas\n",
    "resultadosRPlayer=[3,26,51,68,73,137]\n",
    "porcentajeRPlayer=np.multiply(resultadosRPlayer,100)/partidas\n",
    "\n",
    "plt.figure()\n",
    "\n",
    "plt.xlim([10, 500])\n",
    "plt.ylim([0, 100])\n",
    "\n",
    "#plt.plot(t1, f(t1), 'bo', t2, f(t2), 'k')\n",
    "plt.xlabel('CANTIDAD DE PARTIDAS')\n",
    "plt.ylabel('% PARTIDAS GANADAS')\n",
    "plt.title('RESULTADOS')\n",
    "plt.plot(partidas, porcentajeRPlayer,'bo',color='r',label='Random Player')\n",
    "plt.plot(partidas, porcentajeRPlayer,color='r')\n",
    "plt.plot(partidas, porcentajeQPlayer,'bo',label='Q-Player')\n",
    "plt.plot(partidas, porcentajeQPlayer)\n",
    "plt.legend()\n",
    "plt.show()"
   ]
  },
  {
   "cell_type": "markdown",
   "metadata": {},
   "source": [
    "Puede observarse que Q-P siempre tiene  un porcentaje mucho mas ámplio de ganancia que el R-P .  De acuerdo a nuestras observaciones, el porcentaje de ganancia se mantiene en un rango entre 70 % y 78 %. También hay que destacar que no hay una tendencia ni a un crecimiento ni decrecimiento constante de victorias.\n",
    "\n",
    "Una pregunta que nos surgió durante este experimento fue si dentro de cada entrenamiento se distinguen distintos momentos de aprendizaje (al principio no puede ganar seguido por falta de conocimiento vs al final es un experto jugador y tiende a no perder partidas).\n",
    "\n",
    "Nuestra hipotesis era: \n",
    "\n",
    "Dado que en la primer cuarto de las partidas jugadas, el Q-P no debería haber aprendido mucho, se espera que la diferencia contra R-P en esa parte sea menor que en el último cuarto de las partidas.\n",
    "\n",
    "Los datos que obtuvimos fueron los siguientes:"
   ]
  },
  {
   "cell_type": "code",
   "execution_count": 14,
   "metadata": {
    "collapsed": false
   },
   "outputs": [
    {
     "name": "stdout",
     "output_type": "stream",
     "text": [
      "   Cantidad de partidas  Partidas Ganadas  Primer Cuarto  Ultimo Cuarto\n",
      "0                    40                32              8              8\n",
      "1                    40                32              9              7\n",
      "2                   100                82             18             23\n",
      "3                   100                78             19             19\n",
      "4                   200               166             40             42\n",
      "5                   200               155             40             38\n",
      "6                   400               309             79             75\n",
      "7                   400               324             87             83\n"
     ]
    }
   ],
   "source": [
    "import pandas as pd\n",
    "partidas=[40,40,100,100,200,200,400,400]\n",
    "total_ganadas=[32,32,82,78,166,155,309,324]\n",
    "primer_cuarto=[8,9,18,19,40,40,79,87]\n",
    "ultimo_cuarto=[8,7,23,19,42,38,75,83]\n",
    "#resultadosQPlayer_primer_cuarto=[7,14,23,38,74,149,197,232,303,363,760]\n",
    "#porcentajeQPlayer_primer_cuarto=np.multiply(resultadosQPlayer,100)/partidas\n",
    "#resultadosQPlayer_primer_cuarto=[7,14,23,38,74,149,197,232,303,363,760]\n",
    "#porcentajeQPlayer_ultimo_cuarto=np.multiply(resultadosQPlayer,100)/partidas\n",
    "#resultadosRPlayer_ultimo_cuarto=[3,6,7,12,26,51,53,68,73,137,240]\n",
    "#porcentajeRPlayer_ultimo_cuarto=np.multiply(resultadosRPlayer,100)/partidas\n",
    "\n",
    "\n",
    "f={'Cantidad de partidas':partidas,'Partidas Ganadas':total_ganadas,'Primer Cuarto':primer_cuarto,'Ultimo Cuarto':ultimo_cuarto}\n",
    "g= pd.DataFrame(f)\n",
    "g= g[['Cantidad de partidas','Partidas Ganadas','Primer Cuarto','Ultimo Cuarto']]\n",
    "print g"
   ]
  },
  {
   "cell_type": "markdown",
   "metadata": {},
   "source": [
    "Lamentablemente tuvimos que refutar esta hiptesis, una propuesta para trabajos futuros sería realizar esta misma evaluación con entrenamientos que consten de una mayor cantidad de partidas. "
   ]
  },
  {
   "cell_type": "markdown",
   "metadata": {},
   "source": [
    "# Experimento 3: Q-P vs Q-P\n",
    "\n",
    "Si bien por el experimento 2 notamos que el Q-P es superior al R-P, una pregunta que nos surgió es qué ocurriría si se enfrentaran Q-P contra Q-P. Nuestras expectativas eran que no haya algun jugador que sea ampliamente superior. \n",
    "\n",
    "Los resultados que obtuvimos fueron los siguientes:"
   ]
  },
  {
   "cell_type": "code",
   "execution_count": 106,
   "metadata": {
    "collapsed": false
   },
   "outputs": [
    {
     "name": "stdout",
     "output_type": "stream",
     "text": [
      "   Cantidad de partidas  Partidos ganados Q-P (en %) \n",
      "0                    10                            70\n",
      "1                    20                            40\n",
      "2                    30                            66\n",
      "3                    50                            64\n",
      "4                   100                            48\n",
      "5                   200                            47\n",
      "6                   300                            46\n",
      "7                   400                            52\n",
      "8                   500                            50\n",
      "9                  1000                            51\n"
     ]
    }
   ],
   "source": [
    "partidas=[10,20,30,50,100,200,300,400,500,1000]\n",
    "resultadosQPlayer=[7,8,20,32,48,94,139,210,250,514]\n",
    "porcentajeQPlayer=np.multiply(resultadosQPlayer,100)/partidas\n",
    "resultadosRPlayer=[3,12,10,18,52,106,161,190,250,486]\n",
    "porcentajeRPlayer=np.multiply(resultadosRPlayer,100)/partidas\n",
    "\n",
    "c={'Cantidad de partidas':partidas,'Partidos ganados Q-P (en %) ':porcentajeQPlayer}\n",
    "d= pd.DataFrame(c)\n",
    "print d"
   ]
  },
  {
   "cell_type": "markdown",
   "metadata": {},
   "source": [
    "Se nota una disminución considerable del porcentaje de victgorias. Pareciera ser que al aumentar el número de partidas de entrenamiento el porcentaje de victorias de cada uno de los Q-P es cercano al 50%.\n",
    "\n",
    "\n",
    "Para una mejor comparación de las distinciones obtenidas entre Q-P vs R-P y Q-P vs Q-P observemos el siguiente grafico:  \n"
   ]
  },
  {
   "cell_type": "code",
   "execution_count": 107,
   "metadata": {
    "collapsed": false
   },
   "outputs": [
    {
     "data": {
      "image/png": "[encoded data removed]",
      "text/plain": [
       "<matplotlib.figure.Figure at 0xc2cd4a8>"
      ]
     },
     "metadata": {},
     "output_type": "display_data"
    }
   ],
   "source": [
    "\n",
    "\n",
    "partidas=[10,100,200,300,400,500]\n",
    "resultadosQPlayer=[7,48,94,139,210,250]\n",
    "porcentajeQPlayer=np.multiply(resultadosQPlayer,100)/partidas\n",
    "resultadosRPlayer=[3,52,106,161,190,250]\n",
    "porcentajeRPlayer=np.multiply(resultadosRPlayer,100)/partidas\n",
    "\n",
    "\n",
    "\n",
    "\n",
    "partidas1=[10,100,200,400,500]\n",
    "resultadosQPlayer1=[7,48,94,210,250]\n",
    "porcentajeQPlayer1=np.multiply(resultadosQPlayer,100)/partidas\n",
    "resultadosRPlayer1=[3,52,106,190,250]\n",
    "porcentajeRPlayer1=np.multiply(resultadosRPlayer,100)/partidas\n",
    "\n",
    "\n",
    "plt.figure()\n",
    "plt.xlim([0, 500])\n",
    "plt.ylim([0, 100])\n",
    "\n",
    "\n",
    "\n",
    "#plt.plot(t1, f(t1), 'bo', t2, f(t2), 'k')\n",
    "plt.xlabel('CANTIDAD DE PARTIDAS')\n",
    "plt.ylabel('% PARTIDAS GANADAS')\n",
    "#plt.title('resultados')\n",
    "plt.plot(partidas, porcentajeRPlayer,'bo',color='r',label='Q Player I')\n",
    "plt.plot(partidas, porcentajeRPlayer,color='r')\n",
    "plt.plot(partidas, porcentajeQPlayer,'bo',label='Q-Player II')\n",
    "plt.plot(partidas, porcentajeQPlayer)\n",
    "plt.legend()\n",
    "\n",
    "#plt.plot(t4,t5, label=\"Linea 2\")\n",
    "plt.show()"
   ]
  },
  {
   "cell_type": "markdown",
   "metadata": {},
   "source": []
  },
  {
   "cell_type": "markdown",
   "metadata": {
    "collapsed": false
   },
   "source": [
    "En este caso no hay una brecha entre el porcentaje de victorias de cada jugador. Más aún, la tendencia esta próxima a la mitad de partidas para cada uno y los roles de \"ganador\" se van invirtiendo."
   ]
  },
  {
   "cell_type": "markdown",
   "metadata": {},
   "source": [
    "# Experimento 4 : modificación en la inicialización de la función Q(estado,acción)"
   ]
  },
  {
   "cell_type": "markdown",
   "metadata": {},
   "source": [
    "Como mencionamos anteriormente, la funcion Q(estado, accion) habia sido inicializada con el valor 1. Nos preguntamos que ocurriría si la inicializaramos en valores aleatorios. Tomamos valores aleatorios entre -100,30 y 100 que son los posibles resultados de la función recompensa. Nuestra hipótesis era que esta inicialización introduciría mucho ruido y por lo tanto serían necesarias muchas más sesiones de entrenamiento para que el Q-P pueda hacer una diferencia y empezar a ganar ya que primero deberia \"desaprender\" el ruido introducido. Veamos los resultados obtenidos:"
   ]
  },
  {
   "cell_type": "code",
   "execution_count": 108,
   "metadata": {
    "collapsed": false
   },
   "outputs": [
    {
     "data": {
      "image/png": "[encoded data removed]",
      "text/plain": [
       "<matplotlib.figure.Figure at 0xc780cf8>"
      ]
     },
     "metadata": {},
     "output_type": "display_data"
    }
   ],
   "source": [
    "partidas=[10,100,200,300,400,500]\n",
    "resultadosQPlayer=[8,76,149,226,311,385]\n",
    "porcentajeQPlayer=np.multiply(resultadosQPlayer,100)/partidas\n",
    "resultadosRPlayer=[2,24,51,84,99,115]\n",
    "porcentajeRPlayer=np.multiply(resultadosRPlayer,100)/partidas\n",
    "\n",
    "\n",
    "plt.figure()\n",
    "\n",
    "plt.xlim([0, 500])\n",
    "plt.ylim([0, 100])\n",
    "\n",
    "#plt.plot(t1, f(t1), 'bo', t2, f(t2), 'k')\n",
    "plt.xlabel('CANTIDAD DE PARTIDAS')\n",
    "plt.ylabel('% PARTIDAS GANADAS')\n",
    "#plt.title('resultados')\n",
    "plt.plot(partidas, porcentajeRPlayer,'bo',color='r',label='Random Player')\n",
    "plt.plot(partidas, porcentajeRPlayer,color='r')\n",
    "plt.plot(partidas, porcentajeQPlayer,'bo',label='Q-Player')\n",
    "plt.plot(partidas, porcentajeQPlayer)\n",
    "plt.legend()\n",
    "\n",
    "plt.show()\n",
    "\n",
    "\n"
   ]
  },
  {
   "cell_type": "markdown",
   "metadata": {},
   "source": [
    "Si comparamos la forma de aprendizaje del Q-P cuando Q(estado,acción) se inicializa con 1 y cuando se incializa aleatoriamente entre los posibles valores de la función recompensa, obtenemos:\n"
   ]
  },
  {
   "cell_type": "code",
   "execution_count": 109,
   "metadata": {
    "collapsed": false
   },
   "outputs": [
    {
     "data": {
      "image/png": "[encoded data removed]",
      "text/plain": [
       "<matplotlib.figure.Figure at 0xc5e5a90>"
      ]
     },
     "metadata": {},
     "output_type": "display_data"
    }
   ],
   "source": [
    "partidas=[10,20,30,50,100,200,300,400,500]\n",
    "resultadosQPlayerr=[8,17,21,33,76,149,226,311,385]\n",
    "porcentajeQPlayerr=np.multiply(resultadosQPlayerr,100)/partidas\n",
    "resultadosRPlayerr=[2,3,9,17,24,51,84,99,115]\n",
    "porcentajeRPlayerr=np.multiply(resultadosRPlayerr,100)/partidas\n",
    "\n",
    "#partidas=[10,20,30,50,100,200,250,300,400,500]\n",
    "resultadosQPlayer1=[7,14,23,38,74,149,232,303,363]\n",
    "porcentajeQPlayer1=np.multiply(resultadosQPlayer1,100)/partidas\n",
    "resultadosRPlayer1=[3,6,7,12,26,51,68,73,137]\n",
    "porcentajeRPlayer1=np.multiply(resultadosRPlayer1,100)/partidas\n",
    "plt.figure()\n",
    "\n",
    "plt.xlim([0, 500])\n",
    "plt.ylim([0, 100])\n",
    "\n",
    "plt.subplot(211)\n",
    "#plt.xlabel('CANTIDAD DE PARTIDAS')\n",
    "plt.ylabel('% PARTIDAS GANADAS')\n",
    "plt.title('Q(estado,accion) Random')\n",
    "plt.plot(partidas, porcentajeRPlayerr,'bo',color='r',label='Random Player')\n",
    "plt.annotate('Random Player', xy=(200, 20), xytext=(200,15),color='r')\n",
    "plt.plot(partidas, porcentajeRPlayerr,color='r')\n",
    "plt.plot(partidas, porcentajeQPlayerr,'bo',label='Q-Player')\n",
    "plt.plot(partidas, porcentajeQPlayerr)\n",
    "plt.annotate('Q-Player', xy=(200, 80), xytext=(200,80),color='b')\n",
    "#plt.legend()\n",
    "\n",
    "\n",
    "\n",
    "plt.subplot(212)\n",
    "#plt.xlabel('CANTIDAD DE PARTIDAS')\n",
    "plt.ylabel('% PARTIDAS GANADAS')\n",
    "plt.title('Q(estado,accion) =1')\n",
    "plt.plot(partidas, porcentajeRPlayer1,'bo',color='r',label='Random Player')\n",
    "plt.plot(partidas, porcentajeRPlayer1,color='r')\n",
    "plt.annotate('Random Player', xy=(200, 20), xytext=(200,15),color='r')\n",
    "plt.plot(partidas, porcentajeQPlayer1,'bo',label='Q-Player')\n",
    "plt.plot(partidas, porcentajeQPlayer1)\n",
    "plt.annotate('Q-Player', xy=(200, 70), xytext=(200,70),color='b')\n",
    "#plt.legend()\n",
    "\n",
    "plt.show()"
   ]
  },
  {
   "cell_type": "markdown",
   "metadata": {},
   "source": [
    "Puede observarse comparando ambos gráficos que a partir de los entrenamientos con 100 juegos, los gráficos son similares. Sin embargo, cuando comparamos los experimentos realizados con menos repeticiones se nota que cuando inicializamos de forma random a la función Q, el Q-P tiene una marcada baja en el porcentaje de victorias. Adjudicamos eso a que en el proceso de aprendizaje necesita más instancias para deshacerse del ruido, pero si se entrena lo suficiente logra resultados similares a los que se obtienen con la incialización de Q(estado,accion)=1. En cualquiera de los dos casos, la brecha entre el Q-P y el R-P es significativa."
   ]
  },
  {
   "cell_type": "markdown",
   "metadata": {},
   "source": [
    "# Experimento 5 : profundidad 1 vs profundidad 2"
   ]
  },
  {
   "cell_type": "markdown",
   "metadata": {},
   "source": [
    "En los experimentos realizados hasta el momento la profundidad que consideraba el Q-P para elegir la mejor acción era 1. Quisimos indagar si el hecho de que considere una profundidad 2 daría mejores resultados. Nos hubiese gustado comparar tambien con profundidades 3 o 4 pero fueron inviables al momento de experimentar: cada decisión del jugador Q-P era muy (muy) lenta."
   ]
  },
  {
   "cell_type": "code",
   "execution_count": 110,
   "metadata": {
    "collapsed": false
   },
   "outputs": [
    {
     "data": {
      "image/png": "[encoded data removed]",
      "text/plain": [
       "<matplotlib.figure.Figure at 0xbf6a390>"
      ]
     },
     "metadata": {},
     "output_type": "display_data"
    }
   ],
   "source": [
    "\n",
    "\n",
    "partidas=[10,20,30,50,100]\n",
    "resultadosQPlayer2=[8,13,21,40,81]\n",
    "porcentajeQPlayer2=np.multiply(resultadosQPlayer2,100)/partidas\n",
    "resultadosRPlayer2=[2,7,9,10,19]\n",
    "porcentajeRPlayer2=np.multiply(resultadosRPlayer2,100)/partidas\n",
    "\n",
    "\n",
    "#partidas=[10,20,30,50,100]\n",
    "resultadosQPlayer1=[7,14,23,38,74]\n",
    "porcentajeQPlayer1=np.multiply(resultadosQPlayer1,100)/partidas\n",
    "resultadosRPlayer1=[3,6,7,12,26]\n",
    "porcentajeRPlayer1=np.multiply(resultadosRPlayer1,100)/partidas\n",
    "\n",
    "\n",
    "\n",
    "plt.figure()\n",
    "\n",
    "plt.xlim([0, 100])\n",
    "plt.ylim([0, 100])\n",
    "\n",
    "plt.subplot(212)\n",
    "#plt.xlabel('CANTIDAD DE PARTIDAS')\n",
    "plt.ylabel('% PARTIDAS GANADAS')\n",
    "plt.title('Profundidad 2')\n",
    "plt.plot(partidas, porcentajeRPlayer2,'bo',color='r',label='Random Player')\n",
    "plt.plot(partidas, porcentajeRPlayer2,color='r')\n",
    "plt.annotate('Random Player', xy=(10, 20), xytext=(12, 20),color='r')\n",
    "plt.plot(partidas, porcentajeQPlayer2,'bo',label='Q-Player')\n",
    "plt.plot(partidas, porcentajeQPlayer2)\n",
    "plt.annotate('Q-Player', xy=(11, 80), xytext=(12, 80),color='b')\n",
    "#plt.legend()\n",
    "\n",
    "\n",
    "\n",
    "plt.subplot(211)\n",
    "#plt.xlabel('CANTIDAD DE PARTIDAS')\n",
    "plt.ylabel('% PARTIDAS GANADAS')\n",
    "plt.title('Profundidad 1')\n",
    "plt.plot(partidas, porcentajeRPlayer1,'bo',color='r',label='Random Player')\n",
    "plt.plot(partidas, porcentajeRPlayer1,color='r')\n",
    "plt.annotate('Random Player', xy=(10, 40), xytext=(12, 40),color='r')\n",
    "plt.plot(partidas, porcentajeQPlayer1,'bo',label='Q-Player')\n",
    "plt.plot(partidas, porcentajeQPlayer1)\n",
    "plt.annotate('Q-Player', xy=(11, 60), xytext=(12, 60),color='b')\n",
    "#plt.legend()\n",
    "\n",
    "plt.show()"
   ]
  },
  {
   "cell_type": "markdown",
   "metadata": {},
   "source": [
    "Contrario a lo que esperábamos podemos observar que el jugador Q-P con profundidad 2 necesita de más entrenamientos para comenzar a tener resultados similares a los que obtiene con profundidad 1. "
   ]
  }
 ],
 "metadata": {
  "anaconda-cloud": {},
  "kernelspec": {
   "display_name": "Python [Root]",
   "language": "python",
   "name": "Python [Root]"
  },
  "language_info": {
   "codemirror_mode": {
    "name": "ipython",
    "version": 2
   },
   "file_extension": ".py",
   "mimetype": "text/x-python",
   "name": "python",
   "nbconvert_exporter": "python",
   "pygments_lexer": "ipython2",
   "version": "2.7.12"
  }
 },
 "nbformat": 4,
 "nbformat_minor": 0
}
